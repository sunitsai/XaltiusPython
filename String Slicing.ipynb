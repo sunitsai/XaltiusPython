{
 "cells": [
  {
   "cell_type": "code",
   "execution_count": 6,
   "id": "75add375",
   "metadata": {},
   "outputs": [
    {
     "name": "stdout",
     "output_type": "stream",
     "text": [
      "Current String : Python Programming\n"
     ]
    }
   ],
   "source": [
    "a = \"Python Programming\"\n",
    "print(\"Current String :\",a)"
   ]
  },
  {
   "cell_type": "code",
   "execution_count": null,
   "id": "1e5d6dbc",
   "metadata": {},
   "outputs": [],
   "source": [
    "# P y t h o n  P r o g r a m m i n g\n",
    "# 012 3 4 5 6 7 89 10 1112131415161718"
   ]
  },
  {
   "cell_type": "code",
   "execution_count": 5,
   "id": "bb990b49",
   "metadata": {},
   "outputs": [
    {
     "name": "stdout",
     "output_type": "stream",
     "text": [
      "P\n"
     ]
    }
   ],
   "source": [
    "print(a[0])"
   ]
  },
  {
   "cell_type": "code",
   "execution_count": 8,
   "id": "ef07e498",
   "metadata": {},
   "outputs": [
    {
     "name": "stdout",
     "output_type": "stream",
     "text": [
      "Print value between index 1 to 6\n",
      "ython \n"
     ]
    }
   ],
   "source": [
    "print(\"Print value between index 1 to 6\")\n",
    "print(a[1:7])"
   ]
  },
  {
   "cell_type": "code",
   "execution_count": 11,
   "id": "c678d1dc",
   "metadata": {},
   "outputs": [
    {
     "name": "stdout",
     "output_type": "stream",
     "text": [
      "Print value between 1 to 8 but alternate\n",
      "yhnP\n"
     ]
    }
   ],
   "source": [
    "print(\"Print value between 1 to 8 but alternate\")\n",
    "print(a[1:9:2])  #[Start:End:Steps]"
   ]
  },
  {
   "cell_type": "code",
   "execution_count": 13,
   "id": "b72069da",
   "metadata": {},
   "outputs": [
    {
     "name": "stdout",
     "output_type": "stream",
     "text": [
      "ython Programming\n"
     ]
    }
   ],
   "source": [
    "print(a[1:])"
   ]
  },
  {
   "cell_type": "code",
   "execution_count": 14,
   "id": "4ae6f1f9",
   "metadata": {},
   "outputs": [
    {
     "name": "stdout",
     "output_type": "stream",
     "text": [
      "g\n"
     ]
    }
   ],
   "source": [
    "print(a[-1])"
   ]
  }
 ],
 "metadata": {
  "kernelspec": {
   "display_name": "Python 3 (ipykernel)",
   "language": "python",
   "name": "python3"
  },
  "language_info": {
   "codemirror_mode": {
    "name": "ipython",
    "version": 3
   },
   "file_extension": ".py",
   "mimetype": "text/x-python",
   "name": "python",
   "nbconvert_exporter": "python",
   "pygments_lexer": "ipython3",
   "version": "3.10.0"
  }
 },
 "nbformat": 4,
 "nbformat_minor": 5
}
