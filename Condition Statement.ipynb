{
 "cells": [
  {
   "cell_type": "markdown",
   "id": "db231b02",
   "metadata": {},
   "source": [
    "# Simple If"
   ]
  },
  {
   "cell_type": "code",
   "execution_count": 3,
   "id": "a505a7d0",
   "metadata": {},
   "outputs": [
    {
     "name": "stdout",
     "output_type": "stream",
     "text": [
      "Enter the value of A : 10\n",
      "Enter the value of B : 5\n",
      "A is greater than B\n"
     ]
    }
   ],
   "source": [
    "a = int(input(\"Enter the value of A : \"))\n",
    "b = int(input(\"Enter the value of B : \"))\n",
    "\n",
    "if(a>b):\n",
    "    print(\"A is greater than B\")"
   ]
  },
  {
   "cell_type": "markdown",
   "id": "9dfbdbbf",
   "metadata": {},
   "source": [
    "# If_Else "
   ]
  },
  {
   "cell_type": "code",
   "execution_count": 5,
   "id": "28ce0035",
   "metadata": {},
   "outputs": [
    {
     "name": "stdout",
     "output_type": "stream",
     "text": [
      "Enter the value of A : 10\n",
      "Enter the value of B : 5\n",
      "A is greater than B\n"
     ]
    }
   ],
   "source": [
    "a = int(input(\"Enter the value of A : \"))\n",
    "b = int(input(\"Enter the value of B : \"))\n",
    "\n",
    "if(a>b):\n",
    "    print(\"A is greater than B\")\n",
    "else:\n",
    "    print(\"B is Greater than A\")"
   ]
  },
  {
   "cell_type": "markdown",
   "id": "69f7046a",
   "metadata": {},
   "source": [
    "# Odd and Even\n"
   ]
  },
  {
   "cell_type": "code",
   "execution_count": 7,
   "id": "f8c1e006",
   "metadata": {},
   "outputs": [
    {
     "name": "stdout",
     "output_type": "stream",
     "text": [
      "Value : 10\n",
      "10  : Even Number\n"
     ]
    }
   ],
   "source": [
    "value1 = int(input(\"Value : \"))\n",
    "if(value1%2==0):\n",
    "    print(value1,\" : Even Number\")\n",
    "else:\n",
    "    print(value1,\" : Odd Number\")"
   ]
  },
  {
   "cell_type": "markdown",
   "id": "1653a7f2",
   "metadata": {},
   "source": [
    "# If_Else Ladder"
   ]
  },
  {
   "cell_type": "code",
   "execution_count": 9,
   "id": "8aa03b1a",
   "metadata": {},
   "outputs": [
    {
     "name": "stdout",
     "output_type": "stream",
     "text": [
      "Enter the value of A : 10\n",
      "Enter the value of B : 20\n",
      "Enter the value of C : 30\n"
     ]
    }
   ],
   "source": [
    "a = int(input(\"Enter the value of A : \"))\n",
    "b = int(input(\"Enter the value of B : \"))\n",
    "c = int(input(\"Enter the value of C : \"))\n",
    "\n",
    "if(a>b and a>c):\n",
    "    print(\"A is greater than B and C\")\n",
    "elif(b>a and b>c):\n",
    "    print(\"B is greater than C and A\")"
   ]
  },
  {
   "cell_type": "markdown",
   "id": "ff5cf1df",
   "metadata": {},
   "source": [
    "Precentage is greater than 70 --> Dist\n",
    "Pre is between 65 to 70 --> 1st class\n",
    "pre is between 60 to 65 -> 2nd class\n",
    "pre is between 55 to 60 -> 3rd class\n",
    "pre is less than 55 -> fail"
   ]
  },
  {
   "cell_type": "code",
   "execution_count": 13,
   "id": "e96c8083",
   "metadata": {},
   "outputs": [
    {
     "name": "stdout",
     "output_type": "stream",
     "text": [
      "Enter Precentage : 58\n",
      "3rd Class\n"
     ]
    }
   ],
   "source": [
    "Pre = float(input(\"Enter Precentage : \"))\n",
    "if(Pre>=70):\n",
    "    print(\"Dist\")\n",
    "elif(Pre>=65 and Pre<70):\n",
    "    print(\"1st Class\")\n",
    "elif(Pre>=60 and Pre<65):\n",
    "    print(\"2nd Class\")\n",
    "elif(Pre>=55 and Pre<60):\n",
    "    print(\"3rd Class\")\n",
    "else:\n",
    "    print(\"Fail\")"
   ]
  },
  {
   "cell_type": "markdown",
   "id": "fdb9fee3",
   "metadata": {},
   "source": [
    "# Nested If"
   ]
  },
  {
   "cell_type": "markdown",
   "id": "3e15ca18",
   "metadata": {},
   "source": [
    "Blood Donate\n",
    "-> Age should be greater than 18\n",
    "-> Weight Should be greater than 50\n",
    "-> If age and weight both match then only user can donate blood\n",
    "-> if age is less than 18 show msg \"under Age\"\n",
    "-> if weight is less than 50 show msg \"Under Weight\"\n",
    "-> if age is less than 18 it should not ask for weight"
   ]
  },
  {
   "cell_type": "code",
   "execution_count": 16,
   "id": "2250f33a",
   "metadata": {},
   "outputs": [
    {
     "name": "stdout",
     "output_type": "stream",
     "text": [
      "Enter your age : 14\n",
      "Under Age\n"
     ]
    }
   ],
   "source": [
    "age = int(input(\"Enter your age : \"))\n",
    "\n",
    "if(age>18):\n",
    "    weight = float(input(\"Enter your weight : \"))\n",
    "    if(weight>=50):\n",
    "        print(\"Blood Donate\")\n",
    "    else:\n",
    "        print(\"Under Weight\")\n",
    "else:\n",
    "    print(\"Under Age\")\n",
    "    "
   ]
  },
  {
   "cell_type": "markdown",
   "id": "cd286fa0",
   "metadata": {},
   "source": [
    "Pizza App\n",
    "\n",
    "Note -- User should have 4 wheeler then only user can buy\n",
    "\n",
    "Small -- Buy 4 small pizza offer is 500 ml coke free\n",
    "Medium -- Buy 3 medium pizza offer is 1ltr coke free\n",
    "Large -- Buy 2 large pizza offer is 1 ice-cream with browine free\n",
    "Monster -- Buy 1 monster pizza offer is 1 small pizza and 500 ml coke free\n",
    "\n",
    "\n",
    "User Input:\n",
    "\n",
    "Wheeler == Yes/No\n",
    "Size == String\n",
    "qty = int\n",
    "\n",
    "Note == After size only it should ask for qty"
   ]
  },
  {
   "cell_type": "code",
   "execution_count": null,
   "id": "e1e4a41e",
   "metadata": {},
   "outputs": [],
   "source": []
  }
 ],
 "metadata": {
  "kernelspec": {
   "display_name": "Python 3 (ipykernel)",
   "language": "python",
   "name": "python3"
  },
  "language_info": {
   "codemirror_mode": {
    "name": "ipython",
    "version": 3
   },
   "file_extension": ".py",
   "mimetype": "text/x-python",
   "name": "python",
   "nbconvert_exporter": "python",
   "pygments_lexer": "ipython3",
   "version": "3.10.0"
  }
 },
 "nbformat": 4,
 "nbformat_minor": 5
}
